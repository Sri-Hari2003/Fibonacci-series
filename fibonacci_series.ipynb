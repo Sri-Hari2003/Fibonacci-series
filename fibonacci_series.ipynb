{
 "cells": [
  {
   "cell_type": "code",
   "execution_count": 1,
   "metadata": {},
   "outputs": [
    {
     "name": "stdout",
     "output_type": "stream",
     "text": [
      "Fibonacci series:\n",
      "[0, 1, 1, 2, 3, 5]\n"
     ]
    }
   ],
   "source": [
    "num_terms = int(input(\"Enter the number of terms for the Fibonacci series: \"))\n",
    "\n",
    "fib_series = [0, 1]\n",
    "while len(fib_series) < num_terms:\n",
    "    next_term = fib_series[-1] + fib_series[-2]\n",
    "    fib_series.append(next_term)\n",
    "\n",
    "print(\"Fibonacci series:\")\n",
    "print(fib_series)\n"
   ]
  }
 ],
 "metadata": {
  "kernelspec": {
   "display_name": "Python 3",
   "language": "python",
   "name": "python3"
  },
  "language_info": {
   "codemirror_mode": {
    "name": "ipython",
    "version": 3
   },
   "file_extension": ".py",
   "mimetype": "text/x-python",
   "name": "python",
   "nbconvert_exporter": "python",
   "pygments_lexer": "ipython3",
   "version": "3.11.3"
  },
  "orig_nbformat": 4
 },
 "nbformat": 4,
 "nbformat_minor": 2
}
